{
 "cells": [
  {
   "cell_type": "markdown",
   "id": "6c2e33fc-41f2-4313-9d4e-e00b6291372d",
   "metadata": {},
   "source": [
    "### Steps:\n",
    "1. Load and preprocess the dataset.\n",
    "2. Extract features from movie genres.\n",
    "3. Compute movie similarity using cosine similarity.\n",
    "4. Build a function to recommend similar movies."
   ]
  },
  {
   "cell_type": "code",
   "execution_count": 5,
   "id": "dba7d9ee-8469-4a50-bc76-51126742967a",
   "metadata": {},
   "outputs": [],
   "source": [
    "import pandas as pd\n",
    "from sklearn.feature_extraction.text import TfidfVectorizer\n",
    "from sklearn.metrics.pairwise import cosine_similarity\n",
    "import numpy as np"
   ]
  },
  {
   "cell_type": "code",
   "execution_count": null,
   "id": "b42b5bf7-9146-41e0-aea1-0679a6a159fe",
   "metadata": {},
   "outputs": [],
   "source": [
    "# movies = pd.read_csv(\"./ml-32m-preprocessed/movies.csv\")\n",
    "movies = pd.read_csv(\"./ml-32m/movies.csv\")\n",
    "movies.head()"
   ]
  },
  {
   "cell_type": "code",
   "execution_count": 11,
   "id": "9cbc0946-25ae-43b1-9aa9-a82dc05abd0a",
   "metadata": {},
   "outputs": [],
   "source": [
    "# Preprocess genres for feature extraction\n",
    "# Convert genres into a format suitable for the TF-IDF Vectorizer\n",
    "movies['genres'] = movies['genres'].fillna('')"
   ]
  },
  {
   "cell_type": "code",
   "execution_count": 12,
   "id": "4da28068-578e-464d-8e08-1b3bf77c336d",
   "metadata": {},
   "outputs": [
    {
     "data": {
      "text/html": [
       "<div>\n",
       "<style scoped>\n",
       "    .dataframe tbody tr th:only-of-type {\n",
       "        vertical-align: middle;\n",
       "    }\n",
       "\n",
       "    .dataframe tbody tr th {\n",
       "        vertical-align: top;\n",
       "    }\n",
       "\n",
       "    .dataframe thead th {\n",
       "        text-align: right;\n",
       "    }\n",
       "</style>\n",
       "<table border=\"1\" class=\"dataframe\">\n",
       "  <thead>\n",
       "    <tr style=\"text-align: right;\">\n",
       "      <th></th>\n",
       "      <th>movieId</th>\n",
       "      <th>title</th>\n",
       "      <th>genres</th>\n",
       "    </tr>\n",
       "  </thead>\n",
       "  <tbody>\n",
       "    <tr>\n",
       "      <th>0</th>\n",
       "      <td>1</td>\n",
       "      <td>Toy Story (1995)</td>\n",
       "      <td>Adventure Animation Children Comedy Fantasy</td>\n",
       "    </tr>\n",
       "    <tr>\n",
       "      <th>1</th>\n",
       "      <td>2</td>\n",
       "      <td>Jumanji (1995)</td>\n",
       "      <td>Adventure Children Fantasy</td>\n",
       "    </tr>\n",
       "    <tr>\n",
       "      <th>2</th>\n",
       "      <td>3</td>\n",
       "      <td>Grumpier Old Men (1995)</td>\n",
       "      <td>Comedy Romance</td>\n",
       "    </tr>\n",
       "    <tr>\n",
       "      <th>3</th>\n",
       "      <td>4</td>\n",
       "      <td>Waiting to Exhale (1995)</td>\n",
       "      <td>Comedy Drama Romance</td>\n",
       "    </tr>\n",
       "    <tr>\n",
       "      <th>4</th>\n",
       "      <td>5</td>\n",
       "      <td>Father of the Bride Part II (1995)</td>\n",
       "      <td>Comedy</td>\n",
       "    </tr>\n",
       "  </tbody>\n",
       "</table>\n",
       "</div>"
      ],
      "text/plain": [
       "   movieId                               title  \\\n",
       "0        1                    Toy Story (1995)   \n",
       "1        2                      Jumanji (1995)   \n",
       "2        3             Grumpier Old Men (1995)   \n",
       "3        4            Waiting to Exhale (1995)   \n",
       "4        5  Father of the Bride Part II (1995)   \n",
       "\n",
       "                                        genres  \n",
       "0  Adventure Animation Children Comedy Fantasy  \n",
       "1                   Adventure Children Fantasy  \n",
       "2                               Comedy Romance  \n",
       "3                         Comedy Drama Romance  \n",
       "4                                       Comedy  "
      ]
     },
     "execution_count": 12,
     "metadata": {},
     "output_type": "execute_result"
    }
   ],
   "source": [
    "# Convert genres into a single string format\n",
    "movies['genres'] = movies['genres'].str.replace('|', ' ')\n",
    "movies.head()"
   ]
  },
  {
   "cell_type": "markdown",
   "id": "1716225f-77f2-4652-9763-b40cfdedac6d",
   "metadata": {},
   "source": [
    "### Compute TF-IDF Cosine Similarity"
   ]
  },
  {
   "cell_type": "code",
   "execution_count": 13,
   "id": "2d8ebf58-46b0-4d16-8a59-1b6a2a24120c",
   "metadata": {},
   "outputs": [],
   "source": [
    "# Initialize the TF-IDF Vectorizer\n",
    "tfidf = TfidfVectorizer(stop_words=\"english\")"
   ]
  },
  {
   "cell_type": "code",
   "execution_count": 19,
   "id": "89cb0eca-1b15-44de-9e97-27fcb8ef26ae",
   "metadata": {},
   "outputs": [],
   "source": [
    "# Convert genres into numerical vectors\n",
    "tfidf_matrix = tfidf.fit_transform(movies['genres'])"
   ]
  },
  {
   "cell_type": "markdown",
   "id": "c784be7a-868e-48cd-ab3a-a4e4e81931aa",
   "metadata": {},
   "source": [
    "### Build a model"
   ]
  },
  {
   "cell_type": "code",
   "execution_count": null,
   "id": "8abf037a-115d-4ec9-bd89-1a90f1ed7295",
   "metadata": {},
   "outputs": [],
   "source": []
  },
  {
   "cell_type": "code",
   "execution_count": null,
   "id": "2d7326c7-388e-4156-a821-f2fc5dd810e5",
   "metadata": {},
   "outputs": [],
   "source": []
  }
 ],
 "metadata": {
  "kernelspec": {
   "display_name": "Python 3 (ipykernel)",
   "language": "python",
   "name": "python3"
  },
  "language_info": {
   "codemirror_mode": {
    "name": "ipython",
    "version": 3
   },
   "file_extension": ".py",
   "mimetype": "text/x-python",
   "name": "python",
   "nbconvert_exporter": "python",
   "pygments_lexer": "ipython3",
   "version": "3.12.9"
  }
 },
 "nbformat": 4,
 "nbformat_minor": 5
}
